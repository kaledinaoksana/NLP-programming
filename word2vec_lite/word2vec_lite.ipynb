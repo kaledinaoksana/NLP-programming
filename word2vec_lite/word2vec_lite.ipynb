{
 "cells": [
  {
   "cell_type": "markdown",
   "metadata": {},
   "source": [
    "\n",
    "\n",
    "\n",
    "# Word2Vec Model Lite 2023\n",
    "\n",
    "Write a program that trains Word2Vec model. Do not use print() instructions in your code, otherwise test procedure will not succeed; the message \"Wrong Answer\" indicates answer format is incorrect (print() in the code, missing words in the dictionary, etc.). The message \"Embeddings are not good enough\" means you're on the right track and you should focus on the model improvement. In this version of the assignment the checks on the embeddings are easier.\n",
    "\n",
    "You may think of the input string as being pre-processed with the following function:\n",
    "\n",
    "\n"
   ]
  },
  {
   "cell_type": "code",
   "execution_count": 2,
   "metadata": {},
   "outputs": [],
   "source": [
    "import re\n",
    "import string\n",
    "\n",
    "def clean(inp: str) -> str:\n",
    "    inp = inp.translate(str.maketrans(string.punctuation, \" \"*len(string.punctuation)))\n",
    "    inp = re.sub(r'\\s+', ' ', inp.lower())\n",
    "    return inp"
   ]
  },
  {
   "cell_type": "markdown",
   "metadata": {},
   "source": [
    "I.e. given the input \"Your string!\" the output will be \"your string \".\n",
    "\n",
    "**Input**: data (string) - cleaned documents without punctuation in one line\n",
    "\n",
    "**Output**: w2v_dict (dict: key (string) - a word from vocabulary, value (numpy array) - the word's embedding)\n",
    "\n",
    "**Time limit**: 50 seconds\n",
    "\n",
    "**Memory limit**: 128 MB"
   ]
  },
  {
   "cell_type": "code",
   "execution_count": 6,
   "metadata": {},
   "outputs": [],
   "source": [
    "import numpy\n",
    "import torch\n",
    "\n",
    "def train(data: str):\n",
    "    \"\"\"\n",
    "    return: w2v_dict: dict\n",
    "            - key: string (word)\n",
    "            - value: np.array (embedding)\n",
    "    \"\"\"\n",
    "    dict = {}\n",
    "    value=0\n",
    "\n",
    "    for word in data:\n",
    "        value += 1\n",
    "        dict[word]=value\n",
    "    \n",
    "    return dict"
   ]
  },
  {
   "cell_type": "code",
   "execution_count": 7,
   "metadata": {},
   "outputs": [
    {
     "name": "stdout",
     "output_type": "stream",
     "text": [
      "we are the champion \n"
     ]
    },
    {
     "data": {
      "text/plain": [
       "{'w': 1,\n",
       " 'e': 10,\n",
       " ' ': 20,\n",
       " 'a': 14,\n",
       " 'r': 5,\n",
       " 't': 8,\n",
       " 'h': 13,\n",
       " 'c': 12,\n",
       " 'm': 15,\n",
       " 'p': 16,\n",
       " 'i': 17,\n",
       " 'o': 18,\n",
       " 'n': 19}"
      ]
     },
     "execution_count": 7,
     "metadata": {},
     "output_type": "execute_result"
    }
   ],
   "source": [
    "str = \"We are the champion!\"\n",
    "cleaned_str = clean(str)\n",
    "print(cleaned_str)\n",
    "train(data=cleaned_str)"
   ]
  },
  {
   "cell_type": "markdown",
   "metadata": {},
   "source": [
    "модель можно любую, да; никаких импортов библиотек, кроме numpy и pytorch, не предусмотрено"
   ]
  }
 ],
 "metadata": {
  "kernelspec": {
   "display_name": "Python 3",
   "language": "python",
   "name": "python3"
  },
  "language_info": {
   "codemirror_mode": {
    "name": "ipython",
    "version": 3
   },
   "file_extension": ".py",
   "mimetype": "text/x-python",
   "name": "python",
   "nbconvert_exporter": "python",
   "pygments_lexer": "ipython3",
   "version": "3.11.4"
  }
 },
 "nbformat": 4,
 "nbformat_minor": 2
}
